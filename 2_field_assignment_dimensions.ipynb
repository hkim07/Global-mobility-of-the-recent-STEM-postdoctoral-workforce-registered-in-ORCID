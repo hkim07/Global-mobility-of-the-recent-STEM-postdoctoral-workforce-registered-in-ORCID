{
 "cells": [
  {
   "cell_type": "markdown",
   "metadata": {},
   "source": [
    "## Section 2.1 - Preprocessing and academic field assignments"
   ]
  },
  {
   "cell_type": "markdown",
   "metadata": {},
   "source": [
    "This notebook is executed after completing the procedure in \"1_postdoc_career_trajectories.ipynb\""
   ]
  },
  {
   "cell_type": "code",
   "execution_count": 5,
   "metadata": {},
   "outputs": [],
   "source": [
    "import pandas as pd\n",
    "from collections import defaultdict\n",
    "from tqdm import tqdm\n",
    "import numpy as np\n",
    "from datetime import datetime\n",
    "\n",
    "import warnings\n",
    "warnings.filterwarnings('ignore')"
   ]
  },
  {
   "cell_type": "markdown",
   "metadata": {},
   "source": [
    "### Import data"
   ]
  },
  {
   "cell_type": "code",
   "execution_count": 6,
   "metadata": {
    "scrolled": true
   },
   "outputs": [
    {
     "name": "stdout",
     "output_type": "stream",
     "text": [
      "(445869, 15)\n",
      "(445869, 15) 125364\n"
     ]
    }
   ],
   "source": [
    "dat = pd.read_csv('_dat_orcid_2022_postdoc_trajectories.csv.gz', compression='gzip')\n",
    "print(dat.shape)\n",
    "dat = dat.drop_duplicates()\n",
    "\n",
    "dat.department = dat.department.astype(str)\n",
    "dat.title = dat.title.astype(str)\n",
    "\n",
    "print(dat.shape, len(set(dat.orcid)))"
   ]
  },
  {
   "cell_type": "code",
   "execution_count": 7,
   "metadata": {
    "scrolled": true
   },
   "outputs": [
    {
     "data": {
      "text/html": [
       "<div>\n",
       "<style scoped>\n",
       "    .dataframe tbody tr th:only-of-type {\n",
       "        vertical-align: middle;\n",
       "    }\n",
       "\n",
       "    .dataframe tbody tr th {\n",
       "        vertical-align: top;\n",
       "    }\n",
       "\n",
       "    .dataframe thead th {\n",
       "        text-align: right;\n",
       "    }\n",
       "</style>\n",
       "<table border=\"1\" class=\"dataframe\">\n",
       "  <thead>\n",
       "    <tr style=\"text-align: right;\">\n",
       "      <th></th>\n",
       "      <th>orcid</th>\n",
       "      <th>firstname</th>\n",
       "      <th>lastname</th>\n",
       "      <th>inst</th>\n",
       "      <th>country</th>\n",
       "      <th>department</th>\n",
       "      <th>title</th>\n",
       "      <th>start_year</th>\n",
       "      <th>start_month</th>\n",
       "      <th>end_year</th>\n",
       "      <th>end_month</th>\n",
       "      <th>doctor</th>\n",
       "      <th>postdoc</th>\n",
       "      <th>end_date</th>\n",
       "      <th>start_date</th>\n",
       "    </tr>\n",
       "  </thead>\n",
       "  <tbody>\n",
       "    <tr>\n",
       "      <th>221652</th>\n",
       "      <td>0000-0002-4863-4729</td>\n",
       "      <td>Hyunuk</td>\n",
       "      <td>Kim</td>\n",
       "      <td>Pohang University of Science and Technology</td>\n",
       "      <td>KR</td>\n",
       "      <td>Industrial and Management Engineering</td>\n",
       "      <td>phd</td>\n",
       "      <td>2016.0</td>\n",
       "      <td>9.0</td>\n",
       "      <td>2019.0</td>\n",
       "      <td>8.0</td>\n",
       "      <td>True</td>\n",
       "      <td>False</td>\n",
       "      <td>2019-08-01</td>\n",
       "      <td>NaN</td>\n",
       "    </tr>\n",
       "    <tr>\n",
       "      <th>221653</th>\n",
       "      <td>0000-0002-4863-4729</td>\n",
       "      <td>Hyunuk</td>\n",
       "      <td>Kim</td>\n",
       "      <td>Boston University</td>\n",
       "      <td>US</td>\n",
       "      <td>Information Systems, Questrom School of Business</td>\n",
       "      <td>postdoctoral associate</td>\n",
       "      <td>2019.0</td>\n",
       "      <td>8.0</td>\n",
       "      <td>2021.0</td>\n",
       "      <td>6.0</td>\n",
       "      <td>False</td>\n",
       "      <td>True</td>\n",
       "      <td>NaN</td>\n",
       "      <td>2019-08-01</td>\n",
       "    </tr>\n",
       "    <tr>\n",
       "      <th>221654</th>\n",
       "      <td>0000-0002-4863-4729</td>\n",
       "      <td>Hyunuk</td>\n",
       "      <td>Kim</td>\n",
       "      <td>Boston University</td>\n",
       "      <td>US</td>\n",
       "      <td>Administrative Sciences, Metropolitan College</td>\n",
       "      <td>assistant professor</td>\n",
       "      <td>2021.0</td>\n",
       "      <td>7.0</td>\n",
       "      <td>NaN</td>\n",
       "      <td>NaN</td>\n",
       "      <td>False</td>\n",
       "      <td>False</td>\n",
       "      <td>NaN</td>\n",
       "      <td>2021-07-01</td>\n",
       "    </tr>\n",
       "  </tbody>\n",
       "</table>\n",
       "</div>"
      ],
      "text/plain": [
       "                      orcid firstname lastname  \\\n",
       "221652  0000-0002-4863-4729    Hyunuk      Kim   \n",
       "221653  0000-0002-4863-4729    Hyunuk      Kim   \n",
       "221654  0000-0002-4863-4729    Hyunuk      Kim   \n",
       "\n",
       "                                               inst country  \\\n",
       "221652  Pohang University of Science and Technology      KR   \n",
       "221653                            Boston University      US   \n",
       "221654                            Boston University      US   \n",
       "\n",
       "                                              department  \\\n",
       "221652             Industrial and Management Engineering   \n",
       "221653  Information Systems, Questrom School of Business   \n",
       "221654     Administrative Sciences, Metropolitan College   \n",
       "\n",
       "                         title  start_year  start_month  end_year  end_month  \\\n",
       "221652                     phd      2016.0          9.0    2019.0        8.0   \n",
       "221653  postdoctoral associate      2019.0          8.0    2021.0        6.0   \n",
       "221654     assistant professor      2021.0          7.0       NaN        NaN   \n",
       "\n",
       "        doctor  postdoc    end_date  start_date  \n",
       "221652    True    False  2019-08-01         NaN  \n",
       "221653   False     True         NaN  2019-08-01  \n",
       "221654   False    False         NaN  2021-07-01  "
      ]
     },
     "execution_count": 7,
     "metadata": {},
     "output_type": "execute_result"
    }
   ],
   "source": [
    "dat[dat.orcid=='0000-0002-4863-4729'] # the author's trajectory. It is correct. "
   ]
  },
  {
   "cell_type": "markdown",
   "metadata": {},
   "source": [
    "### Focusing on postdocs whose first postdoc starts in or after 2011."
   ]
  },
  {
   "cell_type": "code",
   "execution_count": 8,
   "metadata": {},
   "outputs": [
    {
     "name": "stdout",
     "output_type": "stream",
     "text": [
      "125364\n",
      "98692\n"
     ]
    }
   ],
   "source": [
    "postdocs = dat[dat.postdoc]\n",
    "first_postdocs = postdocs.groupby('orcid').head(1)\n",
    "\n",
    "unique_postdocs = list(first_postdocs.orcid.unique())\n",
    "print(len(unique_postdocs))\n",
    "recent_postdocs = first_postdocs[first_postdocs.start_year>=2011]\n",
    "unique_recent_postdocs = list(recent_postdocs.orcid.unique())\n",
    "print(len(unique_recent_postdocs))"
   ]
  },
  {
   "cell_type": "markdown",
   "metadata": {},
   "source": [
    "### Dimensions API"
   ]
  },
  {
   "cell_type": "code",
   "execution_count": null,
   "metadata": {},
   "outputs": [],
   "source": [
    "import requests\n",
    "import json\n",
    "\n",
    "KEY = '' # your private API key\n",
    "\n",
    "import dimcli\n",
    "dimcli.login(key=KEY,\n",
    "             endpoint=\"https://app.dimensions.ai\")\n",
    "\n",
    "dsl = dimcli.Dsl()"
   ]
  },
  {
   "cell_type": "markdown",
   "metadata": {},
   "source": [
    "### Collect publications"
   ]
  },
  {
   "cell_type": "code",
   "execution_count": null,
   "metadata": {},
   "outputs": [],
   "source": [
    "import glob, os\n",
    "if not os.path.exists('/data02/orcid/dimensions_082123_recent'):\n",
    "    os.makedirs('/data02/orcid/dimensions_082123_recent')\n",
    "\n",
    "downloaded_files = glob.glob('/data02/orcid/dimensions_082123_recent/*.csv')"
   ]
  },
  {
   "cell_type": "code",
   "execution_count": null,
   "metadata": {
    "scrolled": true
   },
   "outputs": [],
   "source": [
    "import time\n",
    "\n",
    "size=400\n",
    "\n",
    "for start in np.arange(0, len(unique_recent_postdocs), size):\n",
    "    end = start+size\n",
    "    fname = f\"/data02/orcid/dimensions_082123_recent/{start}_{end}.csv\"\n",
    "    if fname not in downloaded_files:\n",
    "        query = f\"\"\"search publications where researchers.orcid_id in {json.dumps(unique_recent_postdocs[start:end])} return publications[category_for_2020+id+title+authors+times_cited+date+journal_title_raw+proceedings_title+concepts_scores]\"\"\"\n",
    "        res = dsl.query_iterative(query, limit=1000)\n",
    "        df = res.as_dataframe()\n",
    "        df.to_csv(fname)\n",
    "        time.sleep(15)\n",
    "    else:\n",
    "        continue"
   ]
  },
  {
   "cell_type": "markdown",
   "metadata": {},
   "source": [
    "### Reshape the collected metadata to a csv file for postdoc ORCIDs"
   ]
  },
  {
   "cell_type": "code",
   "execution_count": null,
   "metadata": {},
   "outputs": [],
   "source": [
    "# This process would take about an hour. \n",
    "\n",
    "from collections import defaultdict\n",
    "orcid_pubs = defaultdict(list)\n",
    "for file in tqdm(downloaded_files):\n",
    "    tmp = pd.read_csv(file, index_col=0)\n",
    "    tmp.authors = tmp.authors.apply(ast.literal_eval)\n",
    "    tmp.authors = tmp.authors.apply(lambda x: [t['orcid'][0] for t in x if t['orcid']])\n",
    "    for ix, row in tmp.iterrows():\n",
    "        authors = row.authors\n",
    "        for ix, a in enumerate(authors):\n",
    "            orcid_pubs[a].append([a, row['id'], row['date'], row['title'], row['journal_title_raw'],\n",
    "                                  row['category_for_2020'], row['times_cited'], ix])\n",
    "orcid_pubs = {a: orcid_pubs[a] for a in orcid_pubs if a in unique_postdocs}\n",
    "    \n",
    "complete_df = []\n",
    "for x in tqdm(orcid_pubs):\n",
    "    target_orcid_recs = pd.DataFrame(orcid_pubs[x])\n",
    "    target_orcid_recs = target_orcid_recs.astype(str).drop_duplicates().reset_index(drop=True)\n",
    "    complete_df.append(target_orcid_recs)\n",
    "    \n",
    "complete_df = pd.concat(complete_df)\n",
    "complete_df = complete_df.reset_index(drop=True)"
   ]
  },
  {
   "cell_type": "code",
   "execution_count": null,
   "metadata": {},
   "outputs": [],
   "source": [
    "complete_df.to_csv('_dat_orcid_2022_recent_postdocs_dimensions_publications_082123.csv', index=False)"
   ]
  }
 ],
 "metadata": {
  "kernelspec": {
   "display_name": "Python 3",
   "language": "python",
   "name": "python3"
  },
  "language_info": {
   "codemirror_mode": {
    "name": "ipython",
    "version": 3
   },
   "file_extension": ".py",
   "mimetype": "text/x-python",
   "name": "python",
   "nbconvert_exporter": "python",
   "pygments_lexer": "ipython3",
   "version": "3.8.5"
  }
 },
 "nbformat": 4,
 "nbformat_minor": 4
}
