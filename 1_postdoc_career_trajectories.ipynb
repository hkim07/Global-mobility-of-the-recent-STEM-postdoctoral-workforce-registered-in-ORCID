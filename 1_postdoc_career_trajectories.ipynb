{
 "cells": [
  {
   "cell_type": "markdown",
   "metadata": {},
   "source": [
    "## This notebook explains some numbers in Section 2.1 of the paper. "
   ]
  },
  {
   "cell_type": "markdown",
   "metadata": {},
   "source": [
    "- Start from 2,199,705 ORCID iDs having both education and employment. Please refer to the notebook \"0_data_extraction.ipynb\" to review how these iDs are retrieved from the raw ORCID's 2022 public data.\n",
    "- Among 2,199,705 ORCID iDs, 1,671,424 ORCID iDs have complete information about the country, institution, and title of all positions.\n",
    "- Among 1,671,424 ORCID iDs, 172,169 ORCID iDs have both doctoral degrees and postdoctoral experiences. \n",
    "- Among 172,169 ORCID iDs, 125,364 ORCID iDs satisfied two conditions:\n",
    "    - Complete information about the country, institution, title, and end date (year and month) of the doctoral degree\n",
    "    - Complete information about the country, institution, title, and start date (year and month) of all jobs after the doctoral degree"
   ]
  },
  {
   "cell_type": "code",
   "execution_count": 1,
   "metadata": {},
   "outputs": [],
   "source": [
    "import pandas as pd\n",
    "import numpy as np\n",
    "from collections import Counter\n",
    "from datetime import datetime\n",
    "\n",
    "import warnings\n",
    "warnings.filterwarnings('ignore')"
   ]
  },
  {
   "cell_type": "markdown",
   "metadata": {},
   "source": [
    "### Load the cleaned data"
   ]
  },
  {
   "cell_type": "code",
   "execution_count": 2,
   "metadata": {},
   "outputs": [
    {
     "name": "stdout",
     "output_type": "stream",
     "text": [
      "(8467802, 14) 2199705\n"
     ]
    }
   ],
   "source": [
    "df = pd.read_csv('../dat/orcid_2022_cleaned_df.csv', usecols = [0,1,2,3,4,5,6,8,9,10,11,13,14,16])\n",
    "df = df.drop_duplicates()\n",
    "\n",
    "df.columns = ['orcid', 'firstname', 'lastname', 'inst', 'city', 'region', 'country', 'department', \n",
    "              'title', 'start_year', 'start_month', 'end_year', 'end_month', 'source']\n",
    "print(df.shape, len(set(df.orcid)))"
   ]
  },
  {
   "cell_type": "markdown",
   "metadata": {},
   "source": [
    "### Remove orcids with null countries and institutes if any"
   ]
  },
  {
   "cell_type": "code",
   "execution_count": 3,
   "metadata": {},
   "outputs": [
    {
     "name": "stdout",
     "output_type": "stream",
     "text": [
      "(8465276, 14) 2199191\n",
      "(8464965, 14) 2199129\n"
     ]
    }
   ],
   "source": [
    "df = df[~df.orcid.isin(df[pd.isna(df.country)].orcid)]\n",
    "print(df.shape, len(set(df.orcid)))\n",
    "\n",
    "df = df[~df.orcid.isin(df[pd.isna(df.inst)].orcid)]\n",
    "print(df.shape, len(set(df.orcid)))"
   ]
  },
  {
   "cell_type": "markdown",
   "metadata": {},
   "source": [
    "### Remove orcids with nan title if any"
   ]
  },
  {
   "cell_type": "code",
   "execution_count": 4,
   "metadata": {},
   "outputs": [
    {
     "name": "stdout",
     "output_type": "stream",
     "text": [
      "(6653687, 14) 1671424\n"
     ]
    }
   ],
   "source": [
    "df.title = df.title.apply(lambda x: str(x).lower().replace('.', ''))\n",
    "df = df[~df.orcid.isin(df[(df.title=='nan') | (pd.isna(df.title))].orcid)]\n",
    "print(df.shape, len(set(df.orcid)))"
   ]
  },
  {
   "cell_type": "markdown",
   "metadata": {},
   "source": [
    "### select ORCID iDs having both a doctoral degree and postdoctoral experience"
   ]
  },
  {
   "cell_type": "code",
   "execution_count": 5,
   "metadata": {},
   "outputs": [
    {
     "name": "stdout",
     "output_type": "stream",
     "text": [
      "826959\n"
     ]
    }
   ],
   "source": [
    "doctor_condition = [len(x)!=0 for x in df.title.str.findall(r'ph(\\s*)d|doctor of|dphil')]\n",
    "df = df.assign(doctor = doctor_condition)\n",
    "print(len(set(df[df.doctor==1].orcid)))"
   ]
  },
  {
   "cell_type": "code",
   "execution_count": 6,
   "metadata": {},
   "outputs": [],
   "source": [
    "postdoc_condition = [len(x)!=0 for x in df.title.str.findall(r'post[\\-\\s*]?doc')]\n",
    "df = df.assign(postdoc = postdoc_condition)"
   ]
  },
  {
   "cell_type": "code",
   "execution_count": 7,
   "metadata": {},
   "outputs": [
    {
     "name": "stdout",
     "output_type": "stream",
     "text": [
      "172169\n"
     ]
    }
   ],
   "source": [
    "target_orcids = set(df[df.doctor].orcid) & set(df[df.postdoc].orcid)\n",
    "print(len(target_orcids))"
   ]
  },
  {
   "cell_type": "code",
   "execution_count": 8,
   "metadata": {},
   "outputs": [
    {
     "name": "stdout",
     "output_type": "stream",
     "text": [
      "(944978, 16) 172169\n"
     ]
    }
   ],
   "source": [
    "df = df[df.orcid.isin(target_orcids)].reset_index(drop=True)\n",
    "print(df.shape, len(set(df.orcid)))"
   ]
  },
  {
   "cell_type": "markdown",
   "metadata": {},
   "source": [
    "### End year and month of a doctoral degree and all start years and months of the jobs after the doctoral degree should be provided"
   ]
  },
  {
   "cell_type": "code",
   "execution_count": 9,
   "metadata": {},
   "outputs": [],
   "source": [
    "def concat_date(y, m):\n",
    "    try:\n",
    "        res = str(int(float(y)))+'/'+str(int(float(m))).zfill(2)\n",
    "        return datetime.strptime(res, \"%Y/%m\")\n",
    "    except:\n",
    "        return None"
   ]
  },
  {
   "cell_type": "code",
   "execution_count": 10,
   "metadata": {},
   "outputs": [
    {
     "name": "stdout",
     "output_type": "stream",
     "text": [
      "(138425, 17)\n"
     ]
    }
   ],
   "source": [
    "doctor = df[df.doctor]\n",
    "doctor = doctor.assign(end_date = [concat_date(y, m) \n",
    "                                     for y, m in zip(doctor.end_year, doctor.end_month)])\n",
    "doctor = doctor[~pd.isna(doctor.end_date)]\n",
    "last_doctor = doctor.sort_values(by=['end_date'], ascending=False).groupby('orcid').head(1).reset_index(drop=True)\n",
    "print(last_doctor.shape)"
   ]
  },
  {
   "cell_type": "code",
   "execution_count": 11,
   "metadata": {},
   "outputs": [
    {
     "name": "stdout",
     "output_type": "stream",
     "text": [
      "(563956, 18) 137215\n",
      "(335462, 19) 132645\n"
     ]
    }
   ],
   "source": [
    "non_doctor = df[~df.doctor]\n",
    "non_doctor = non_doctor[non_doctor.orcid.isin(last_doctor.orcid)]\n",
    "non_doctor = non_doctor.assign(start_date = [concat_date(y, m) \n",
    "                                             for y, m in zip(non_doctor.start_year, non_doctor.start_month)])\n",
    "non_doctor = non_doctor.assign(end_date = [concat_date(y, m) \n",
    "                                             for y, m in zip(non_doctor.end_year, non_doctor.end_month)])\n",
    "\n",
    "non_doctor = non_doctor[~pd.isna(non_doctor.start_date)].reset_index(drop=True)\n",
    "print(non_doctor.shape, non_doctor.orcid.nunique())\n",
    "\n",
    "non_doctor = non_doctor.merge(last_doctor[['orcid', 'end_date']], on='orcid')\n",
    "non_doctor = non_doctor[non_doctor.start_date>=non_doctor.end_date_y]\n",
    "\n",
    "print(non_doctor.shape, non_doctor.orcid.nunique())"
   ]
  },
  {
   "cell_type": "code",
   "execution_count": 12,
   "metadata": {},
   "outputs": [
    {
     "name": "stdout",
     "output_type": "stream",
     "text": [
      "125364\n"
     ]
    }
   ],
   "source": [
    "postdoc_orcids = set(non_doctor[non_doctor.postdoc].orcid)\n",
    "print(len(postdoc_orcids))"
   ]
  },
  {
   "cell_type": "code",
   "execution_count": 13,
   "metadata": {},
   "outputs": [
    {
     "name": "stdout",
     "output_type": "stream",
     "text": [
      "(125364, 17)\n",
      "(320847, 19)\n"
     ]
    }
   ],
   "source": [
    "last_doctor_for_postdoc = last_doctor[last_doctor.orcid.isin(postdoc_orcids)]\n",
    "print(last_doctor_for_postdoc.shape)\n",
    "\n",
    "non_doctor_for_postdoc = non_doctor[non_doctor.orcid.isin(postdoc_orcids)]\n",
    "print(non_doctor_for_postdoc.shape)"
   ]
  },
  {
   "cell_type": "code",
   "execution_count": 14,
   "metadata": {},
   "outputs": [
    {
     "name": "stdout",
     "output_type": "stream",
     "text": [
      "(445869, 15) 125364\n"
     ]
    }
   ],
   "source": [
    "df_ordered = pd.concat([last_doctor_for_postdoc, non_doctor_for_postdoc.iloc[:,:-2]], axis=0)\n",
    "df_ordered = df_ordered.sort_values(by=['orcid', 'doctor', 'start_date'], ascending=[True, False, True])\n",
    "df_ordered = df_ordered.drop(['city', 'region', 'source'], axis=1)\n",
    "\n",
    "df_ordered = df_ordered.drop_duplicates().reset_index(drop=True)\n",
    "\n",
    "print(df_ordered.shape, df_ordered.orcid.nunique())"
   ]
  },
  {
   "cell_type": "code",
   "execution_count": 15,
   "metadata": {},
   "outputs": [],
   "source": [
    "df_ordered.to_csv('_dat_orcid_2022_postdoc_trajectories.csv.gz', index=False, compression='gzip')"
   ]
  }
 ],
 "metadata": {
  "kernelspec": {
   "display_name": "Python 3",
   "language": "python",
   "name": "python3"
  },
  "language_info": {
   "codemirror_mode": {
    "name": "ipython",
    "version": 3
   },
   "file_extension": ".py",
   "mimetype": "text/x-python",
   "name": "python",
   "nbconvert_exporter": "python",
   "pygments_lexer": "ipython3",
   "version": "3.8.5"
  }
 },
 "nbformat": 4,
 "nbformat_minor": 5
}
