{
 "cells": [
  {
   "cell_type": "code",
   "execution_count": null,
   "metadata": {},
   "outputs": [],
   "source": [
    "import tarfile, xmltodict, pickle\n",
    "import pandas as pd\n",
    "from itertools import chain\n",
    "from collections import defaultdict\n",
    "\n",
    "import warnings\n",
    "warnings.filterwarnings('ignore')"
   ]
  },
  {
   "cell_type": "markdown",
   "metadata": {},
   "source": [
    "### Extracting only required ORCID information for the paper"
   ]
  },
  {
   "cell_type": "code",
   "execution_count": null,
   "metadata": {},
   "outputs": [],
   "source": [
    "def get_rel_info(x):\n",
    "    \"\"\"\n",
    "    This function is to extract name, identifier, employements, and educations \n",
    "    from the ORCID's public data.\n",
    "    \"\"\"\n",
    "    try:\n",
    "        p = content['record:record']['person:person'].get('person:name', None)\n",
    "        a = content['record:record']['common:orcid-identifier']['common:path']\n",
    "        b = content['record:record']['activities:activities-summary']['activities:employments'].get('activities:affiliation-group', None)\n",
    "        c = content['record:record']['activities:activities-summary']['activities:educations'].get('activities:affiliation-group', None)\n",
    "        return (p, a, b, c)    \n",
    "    except:\n",
    "        return (None, None, None, None)"
   ]
  },
  {
   "cell_type": "markdown",
   "metadata": {},
   "source": [
    "ORCID's public data can be found at https://support.orcid.org/hc/en-us/articles/360006897394-How-do-I-get-the-public-data-file-"
   ]
  },
  {
   "cell_type": "code",
   "execution_count": null,
   "metadata": {},
   "outputs": [],
   "source": [
    "%%time \n",
    "# ~ 7.5 hours in the author's computing machine. Execution time varies by user. \n",
    "\n",
    "tar = tarfile.open(\"/data02/orcid/ORCID_2022_10_summaries.tar.gz\")\n",
    "\n",
    "rec = []\n",
    "idx = 0\n",
    "for member in tar:\n",
    "    f = tar.extractfile(member)\n",
    "    if f is not None:\n",
    "        content = f.read().decode()\n",
    "        content = xmltodict.parse(content)\n",
    "        p, a, b, c = get_rel_info(content)\n",
    "        rec.append([p, a, b, c])\n",
    "        idx+=1\n",
    "        if idx%1000000==999999:\n",
    "            print(idx+1)\n",
    "\n",
    "# Save \n",
    "with open(\"../dat/orcid_2022_all_recs.pkl\", \"wb\") as f:\n",
    "    pickle.dump(rec, f)"
   ]
  },
  {
   "cell_type": "markdown",
   "metadata": {},
   "source": [
    "### Load the extracted information"
   ]
  },
  {
   "cell_type": "code",
   "execution_count": null,
   "metadata": {},
   "outputs": [],
   "source": [
    "%%time \n",
    "# ~ 6 minutes in the author's computing machine\n",
    "\n",
    "with open('../dat/orcid_2022_all_recs.pkl', 'rb') as f:\n",
    "    rec = pickle.load(f)"
   ]
  },
  {
   "cell_type": "markdown",
   "metadata": {},
   "source": [
    "### The number of unique ORCID iDs in the ORCID public data 2022"
   ]
  },
  {
   "cell_type": "code",
   "execution_count": null,
   "metadata": {},
   "outputs": [],
   "source": [
    "uniq_ids = set([r[1] for r in rec])\n",
    "print(len(uniq_ids)) # It returns 14,845,876"
   ]
  },
  {
   "cell_type": "markdown",
   "metadata": {},
   "source": [
    "### Selecting ORCID iDs having both education and employement information"
   ]
  },
  {
   "cell_type": "code",
   "execution_count": null,
   "metadata": {},
   "outputs": [],
   "source": [
    "rec_with_info = []\n",
    "for r in rec:\n",
    "    if r[2] and r[3]:\n",
    "        rec_with_info.append(r)\n",
    "        \n",
    "uniq_ids_with_info = set([r[1] for r in rec_with_info])\n",
    "print(len(uniq_ids_with_info)) # It returns 2,199,705"
   ]
  },
  {
   "cell_type": "markdown",
   "metadata": {},
   "source": [
    "### Convert the reduced file into a csv format"
   ]
  },
  {
   "cell_type": "code",
   "execution_count": null,
   "metadata": {},
   "outputs": [],
   "source": [
    "def clean_rec(a):\n",
    "    \"\"\"\n",
    "    This function preprocesses the data further into a csv file for future use. \n",
    "    \"\"\"\n",
    "    person = a[0]\n",
    "    if person:\n",
    "        first_name = person.get('personal-details:given-names', '')\n",
    "        last_name = person.get('personal-details:family-name', '')\n",
    "    else:\n",
    "        first_name = ''\n",
    "        last_name = ''\n",
    "    orcid = a[1]\n",
    "    emp = a[2]\n",
    "    edu = a[3]\n",
    "    \n",
    "    v = []\n",
    "    \n",
    "    if type(emp)==dict:\n",
    "        emp = [emp]\n",
    "    if type(edu)==dict:\n",
    "        edu = [edu]\n",
    "        \n",
    "    fields = [\n",
    "        'common:organization_common:name',\n",
    "        'common:organization_common:address_common:city',\n",
    "        'common:organization_common:address_common:region',\n",
    "        'common:organization_common:address_common:country',\n",
    "        'common:organization_common:disambiguated-organization_common:disambiguated-organization-identifier',\n",
    "        'common:department-name',\n",
    "        'common:role-title',\n",
    "        'common:start-date_common:year',\n",
    "        'common:start-date_common:month',\n",
    "        'common:start-date_common:day',              \n",
    "        'common:end-date_common:year',\n",
    "        'common:end-date_common:month',\n",
    "        'common:end-date_common:day'              \n",
    "    ]    \n",
    "    \n",
    "    rec = defaultdict(list)\n",
    "    for e in emp:\n",
    "        rec['emp'].append(pd.json_normalize(e['employment:employment-summary'], sep='_').to_dict(orient='records')[0])\n",
    "    for e in edu:\n",
    "        rec['edu'].append(pd.json_normalize(e['education:education-summary'], sep='_').to_dict(orient='records')[0])\n",
    "        \n",
    "    \n",
    "    for t in rec:\n",
    "        for r in rec[t]:\n",
    "            tmp = []\n",
    "            for f in fields:\n",
    "                tmp.append(r.get(f, ''))\n",
    "            tmp = [orcid, first_name, last_name] + tmp + [t]\n",
    "            v.append(tmp)\n",
    "\n",
    "    return v        "
   ]
  },
  {
   "cell_type": "code",
   "execution_count": null,
   "metadata": {
    "scrolled": true
   },
   "outputs": [],
   "source": [
    "%%time\n",
    "# ~ 3.5 hours in the author's computing machine\n",
    "\n",
    "cleaned_rec = list(map(clean_rec, rec_with_info))\n",
    "cleaned_rec = list(chain(*cleaned_rec))\n",
    "\n",
    "print(len(cleaned_rec)) # It returns xxx, the number of ORCID iDs having both employment and education records"
   ]
  },
  {
   "cell_type": "code",
   "execution_count": null,
   "metadata": {},
   "outputs": [],
   "source": [
    "df = pd.DataFrame(cleaned_rec)\n",
    "df.to_csv('../dat/orcid_2022_cleaned_df.csv', index=False)\n",
    "print(df.shape)"
   ]
  }
 ],
 "metadata": {
  "kernelspec": {
   "display_name": "Python 3",
   "language": "python",
   "name": "python3"
  },
  "language_info": {
   "codemirror_mode": {
    "name": "ipython",
    "version": 3
   },
   "file_extension": ".py",
   "mimetype": "text/x-python",
   "name": "python",
   "nbconvert_exporter": "python",
   "pygments_lexer": "ipython3",
   "version": "3.8.5"
  }
 },
 "nbformat": 4,
 "nbformat_minor": 5
}
